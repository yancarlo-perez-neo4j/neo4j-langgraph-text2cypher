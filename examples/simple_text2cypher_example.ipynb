{
 "cells": [
  {
   "cell_type": "markdown",
   "metadata": {},
   "source": [
    "# Simple Text2Cypher Example\n",
    "\n",
    "This notebook demonstrates how to use the simplified Text2Cypher workflow to convert natural language questions into Cypher queries for Neo4j."
   ]
  },
  {
   "cell_type": "code",
   "execution_count": null,
   "metadata": {},
   "outputs": [],
   "source": [
    "import sys\n",
    "import os\n",
    "\n",
    "# Add the project root to Python path\n",
    "sys.path.append(\"..\")"
   ]
  },
  {
   "cell_type": "code",
   "execution_count": null,
   "metadata": {},
   "outputs": [],
   "source": [
    "from dotenv import load_dotenv\n",
    "from langchain_neo4j import Neo4jGraph\n",
    "from langchain_openai import ChatOpenAI\n",
    "\n",
    "from simple_text2cypher.retrievers.cypher_examples import YAMLCypherExampleRetriever\n",
    "from simple_text2cypher.workflows.simple_text2cypher_workflow import create_simple_text2cypher_workflow"
   ]
  },
  {
   "cell_type": "code",
   "execution_count": null,
   "metadata": {},
   "outputs": [],
   "source": [
    "# Load environment variables\n",
    "load_dotenv()"
   ]
  },
  {
   "cell_type": "markdown",
   "metadata": {},
   "source": [
    "## Initialize Components\n",
    "\n",
    "Set up the Neo4j graph connection, LLM, and Cypher example retriever."
   ]
  },
  {
   "cell_type": "code",
   "execution_count": null,
   "metadata": {},
   "outputs": [],
   "source": [
    "# Initialize Neo4j graph connection\n",
    "graph = Neo4jGraph(enhanced_schema=True)\n",
    "print(\"Connected to Neo4j\")\n",
    "print(f\"Schema: {graph.schema[:500]}...\")  # Print first 500 chars of schema"
   ]
  },
  {
   "cell_type": "code",
   "execution_count": null,
   "metadata": {},
   "outputs": [],
   "source": [
    "# Initialize LLM\n",
    "llm = ChatOpenAI(model=\"gpt-4o\", temperature=0)\n",
    "print(\"LLM initialized\")"
   ]
  },
  {
   "cell_type": "code",
   "execution_count": null,
   "metadata": {},
   "outputs": [],
   "source": [
    "# Initialize Cypher example retriever\n",
    "cypher_query_yaml_file_path = \"../data/example/queries.yml\"\n",
    "cypher_example_retriever = YAMLCypherExampleRetriever(\n",
    "    cypher_query_yaml_file_path=cypher_query_yaml_file_path\n",
    ")\n",
    "print(f\"Cypher examples loaded from: {cypher_query_yaml_file_path}\")"
   ]
  },
  {
   "cell_type": "markdown",
   "metadata": {},
   "source": [
    "## Create the Workflow\n",
    "\n",
    "Set up the simple text2cypher workflow with guardrails and validation."
   ]
  },
  {
   "cell_type": "code",
   "execution_count": null,
   "metadata": {},
   "outputs": [],
   "source": [
    "# Define the scope of your application\n",
    "scope_description = \"This application answers questions about your graph database.\"\n",
    "\n",
    "# Create the workflow\n",
    "agent = create_simple_text2cypher_workflow(\n",
    "    llm=llm,\n",
    "    graph=graph,\n",
    "    scope_description=scope_description,\n",
    "    cypher_example_retriever=cypher_example_retriever,\n",
    "    llm_cypher_validation=False,  # Use rule-based validation for speed\n",
    "    max_attempts=3,\n",
    "    attempt_cypher_execution_on_final_attempt=True,\n",
    ")\n",
    "\n",
    "print(\"Text2Cypher workflow created successfully!\")"
   ]
  },
  {
   "cell_type": "markdown",
   "metadata": {},
   "source": [
    "## Visualize the Workflow\n",
    "\n",
    "Display the workflow graph to understand the execution flow."
   ]
  },
  {
   "cell_type": "code",
   "execution_count": null,
   "metadata": {},
   "outputs": [],
   "source": [
    "from IPython.display import Image, display\n",
    "\n",
    "try:\n",
    "    # Display the workflow graph\n",
    "    display(Image(agent.get_graph().draw_mermaid_png()))\n",
    "except Exception as e:\n",
    "    print(f\"Could not display graph: {e}\")\n",
    "    print(\"Workflow structure:\")\n",
    "    print(\"Input → Guardrails → Planner → Text2Cypher → Gather Results → Summarize → Validate → Final Answer\")"
   ]
  },
  {
   "cell_type": "markdown",
   "metadata": {},
   "source": [
    "## Example Usage\n",
    "\n",
    "Run some example questions through the workflow."
   ]
  },
  {
   "cell_type": "code",
   "execution_count": null,
   "metadata": {},
   "outputs": [],
   "source": [
    "# Example question\n",
    "question = \"What nodes exist in this graph?\"\n",
    "\n",
    "response = await agent.ainvoke({\n",
    "    \"question\": question,\n",
    "    \"data\": [],\n",
    "    \"history\": []\n",
    "})\n",
    "\n",
    "print(f\"Question: {response.get('question')}\")\n",
    "print(f\"\\nAnswer: {response.get('answer')}\")"
   ]
  },
  {
   "cell_type": "markdown",
   "metadata": {},
   "source": [
    "## Examine the Results\n",
    "\n",
    "Look at the generated Cypher queries and execution steps."
   ]
  },
  {
   "cell_type": "code",
   "execution_count": null,
   "metadata": {},
   "outputs": [],
   "source": [
    "# Display the execution steps\n",
    "print(\"Execution Steps:\")\n",
    "for step in response.get(\"steps\", []):\n",
    "    print(f\"  - {step}\")"
   ]
  },
  {
   "cell_type": "code",
   "execution_count": null,
   "metadata": {},
   "outputs": [],
   "source": [
    "# Display generated Cypher queries and results\n",
    "cyphers = response.get(\"cyphers\", [])\n",
    "print(f\"\\nGenerated {len(cyphers)} Cypher queries:\")\n",
    "\n",
    "for i, cypher_result in enumerate(cyphers):\n",
    "    print(f\"\\n--- Query {i+1} ---\")\n",
    "    print(f\"Task: {cypher_result.get('task')}\")\n",
    "    print(f\"Cypher: {cypher_result.get('statement')}\")\n",
    "    \n",
    "    records = cypher_result.get('records', [])\n",
    "    print(f\"Results: {len(records)} records\")\n",
    "    \n",
    "    # Show first few records\n",
    "    for j, record in enumerate(records[:3]):\n",
    "        print(f\"  Record {j+1}: {record}\")\n",
    "    \n",
    "    if len(records) > 3:\n",
    "        print(f\"  ... and {len(records) - 3} more records\")"
   ]
  },
  {
   "cell_type": "markdown",
   "metadata": {},
   "source": [
    "## Try Your Own Questions\n",
    "\n",
    "Modify the question below to test with your own data."
   ]
  },
  {
   "cell_type": "code",
   "execution_count": null,
   "metadata": {},
   "outputs": [],
   "source": [
    "# Try your own question here\n",
    "my_question = \"How many relationships are in this graph?\"\n",
    "\n",
    "my_response = await agent.ainvoke({\n",
    "    \"question\": my_question,\n",
    "    \"data\": [],\n",
    "    \"history\": []\n",
    "})\n",
    "\n",
    "print(f\"Question: {my_response.get('question')}\")\n",
    "print(f\"\\nAnswer: {my_response.get('answer')}\")\n",
    "\n",
    "# Show Cypher queries\n",
    "my_cyphers = my_response.get(\"cyphers\", [])\n",
    "for cypher_result in my_cyphers:\n",
    "    print(f\"\\nCypher: {cypher_result.get('statement')}\")\n",
    "    records = cypher_result.get('records', [])\n",
    "    if records:\n",
    "        print(f\"Result: {records[0] if records else 'No results'}\")"
   ]
  },
  {
   "cell_type": "markdown",
   "metadata": {},
   "source": [
    "## Summary\n",
    "\n",
    "This example demonstrates:\n",
    "\n",
    "1. **Setup**: Initialize Neo4j connection, LLM, and Cypher examples\n",
    "2. **Workflow Creation**: Build the text2cypher workflow with guardrails\n",
    "3. **Question Processing**: Convert natural language to Cypher and execute\n",
    "4. **Results**: Examine generated queries and returned data\n",
    "\n",
    "The workflow includes:\n",
    "- **Guardrails**: Validate questions are in scope\n",
    "- **Planning**: Break down complex questions\n",
    "- **Text2Cypher**: Generate, validate, and execute Cypher\n",
    "- **Summarization**: Format results in natural language\n",
    "- **Validation**: Ensure answer quality\n",
    "\n",
    "For production use, consider:\n",
    "- Adding more comprehensive Cypher examples\n",
    "- Customizing the scope description\n",
    "- Enabling LLM-based validation for higher accuracy\n",
    "- Implementing conversation history for multi-turn interactions"
   ]
  }
 ],
 "metadata": {
  "kernelspec": {
   "display_name": "Python 3",
   "language": "python",
   "name": "python3"
  },
  "language_info": {
   "codemirror_mode": {
    "name": "ipython",
    "version": 3
   },
   "file_extension": ".py",
   "mimetype": "text/x-python",
   "name": "python",
   "nbconvert_exporter": "python",
   "pygments_lexer": "ipython3",
   "version": "3.10.0"
  }
 },
 "nbformat": 4,
 "nbformat_minor": 4
}