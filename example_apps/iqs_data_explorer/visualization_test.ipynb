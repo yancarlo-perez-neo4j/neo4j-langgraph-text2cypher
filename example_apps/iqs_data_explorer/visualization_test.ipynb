{
 "cells": [
  {
   "cell_type": "markdown",
   "metadata": {},
   "source": [
    "# Neo4j Visualization Feature Test\n",
    "\n",
    "This notebook tests the new visualization feature for the Text2Cypher workflow. It demonstrates:\n",
    "1. LLM detection of visualization requests\n",
    "2. Enhanced generation with visualization-specific prompts\n",
    "3. Graph execution with Result.graph transformer\n",
    "4. Side-by-side comparison of regular vs visualization queries"
   ]
  },
  {
   "cell_type": "code",
   "execution_count": 9,
   "metadata": {},
   "outputs": [],
   "source": [
    "import sys\n",
    "\n",
    "# Add the project root to Python path\n",
    "sys.path.append(\"../..\")"
   ]
  },
  {
   "cell_type": "code",
   "execution_count": 10,
   "metadata": {},
   "outputs": [],
   "source": [
    "from dotenv import load_dotenv\n",
    "from langchain_neo4j import Neo4jGraph\n",
    "from langchain_openai import ChatOpenAI\n",
    "\n",
    "from neo4j_text2cypher.retrievers import ConfigCypherExampleRetriever\n",
    "from neo4j_text2cypher.utils.config import ConfigLoader\n",
    "from neo4j_text2cypher.utils.debug import setup_debug_logging\n",
    "\n",
    "# Import enhanced components for visualization\n",
    "from neo4j_text2cypher.components.text2cypher.visualization_detector import detect_visualization_request\n",
    "from neo4j_text2cypher.components.text2cypher.generation.node_with_viz import create_text2cypher_generation_node_with_viz\n",
    "from neo4j_text2cypher.components.text2cypher.execution.node_with_graph import create_text2cypher_execution_with_graph_node"
   ]
  },
  {
   "cell_type": "code",
   "execution_count": 11,
   "metadata": {},
   "outputs": [
    {
     "data": {
      "text/plain": [
       "True"
      ]
     },
     "execution_count": 11,
     "metadata": {},
     "output_type": "execute_result"
    }
   ],
   "source": [
    "# Load environment variables\n",
    "load_dotenv()"
   ]
  },
  {
   "cell_type": "markdown",
   "metadata": {},
   "source": [
    "## Initialize Components with Visualization Support"
   ]
  },
  {
   "cell_type": "code",
   "execution_count": 12,
   "metadata": {},
   "outputs": [
    {
     "name": "stdout",
     "output_type": "stream",
     "text": [
      "Connected to Neo4j\n",
      "Schema: Node properties:\n",
      "- **Customer**\n",
      "  - `id`: STRING Example: \"9A79438B\"\n",
      "  - `ageBucket`: STRING Example: \">=70\"\n",
      "  - `gender`: STRING Available options: ['Male', 'Female', '']\n",
      "- **Category**\n",
      "  - `id`: STRING Available options: ['Exterior', 'Driving Experience', 'Features/Controls/Displays (FCD)', 'Driving Assistance', 'Infotainment', 'Seats', 'Climate', 'Interior', 'Powertrain']\n",
      "- **Problem**\n",
      "  - `id`: STRING Example: \"EXT01\"\n",
      "  - `problem`: STRING Example: \"EXT01: Doors - Hard to open/close\"\n",
      "- **Que...\n"
     ]
    }
   ],
   "source": [
    "# Load unified configuration\n",
    "config_path = \"app-config.yml\"\n",
    "config_loader = ConfigLoader(config_path)\n",
    "\n",
    "# Setup debug logging\n",
    "debug_config = config_loader.get_debug_config()\n",
    "setup_debug_logging(debug_config)\n",
    "\n",
    "# Initialize Neo4j graph connection\n",
    "graph = Neo4jGraph(enhanced_schema=True)\n",
    "print(\"Connected to Neo4j\")\n",
    "print(f\"Schema: {graph.schema[:500]}...\")  # Print first 500 chars of schema"
   ]
  },
  {
   "cell_type": "code",
   "execution_count": 13,
   "metadata": {},
   "outputs": [
    {
     "name": "stdout",
     "output_type": "stream",
     "text": [
      "LLM initialized\n"
     ]
    }
   ],
   "source": [
    "# Initialize LLM\n",
    "llm = ChatOpenAI(model=\"gpt-4o\", temperature=0)\n",
    "print(\"LLM initialized\")"
   ]
  },
  {
   "cell_type": "code",
   "execution_count": null,
   "metadata": {},
   "outputs": [],
   "source": "# Initialize unified Cypher example retriever (following exact same pattern as working example)\ncypher_example_retriever = ConfigCypherExampleRetriever(config_path=config_path)\n\n# Get Streamlit configuration for scope description (same as working example)\nstreamlit_config = config_loader.get_streamlit_config()\nprint(f\"Loaded {len(config_loader.get_example_queries())} regular example queries from: {config_path}\")\nprint(f\"Loaded {len(config_loader.get_visualization_examples())} visualization example queries from: {config_path}\")\nprint(f\"App: {streamlit_config.title}\")\nprint(f\"Scope: {streamlit_config.scope_description[:100]}...\")\n\n# Test the retriever methods\nregular_examples = cypher_example_retriever.get_examples()\nviz_examples = cypher_example_retriever.get_visualization_examples()\n\nprint(f\"\\nRetriever results:\")\nprint(f\"Regular examples length: {len(regular_examples)} chars\")\nprint(f\"Visualization examples length: {len(viz_examples)} chars\")\nprint(f\"\\nFirst visualization example:\")\nprint(viz_examples.split('\\n\\n')[0] if viz_examples else \"No visualization examples found\")"
  },
  {
   "cell_type": "markdown",
   "metadata": {},
   "source": [
    "## Test 1: Visualization Detection\n",
    "\n",
    "Test the LLM's ability to detect when questions request visualization."
   ]
  },
  {
   "cell_type": "code",
   "execution_count": null,
   "metadata": {},
   "outputs": [],
   "source": [
    "# Test questions - mix of regular and visualization requests\n",
    "test_questions = [\n",
    "    \"How many Honda Civic responses are there?\",  # Regular\n",
    "    \"Visualize the connections between Honda Pilot complaints and categories\",  # Visualization\n",
    "    \"Show me the network of problems for Acura models\",  # Visualization\n",
    "    \"What is the average age of complainants?\",  # Regular\n",
    "    \"Display the relationship between categories and problems\",  # Visualization\n",
    "    \"Count the number of problems per category\"  # Regular\n",
    "]\n",
    "\n",
    "print(\"Testing Visualization Detection:\")\n",
    "print(\"=\" * 50)\n",
    "\n",
    "for question in test_questions:\n",
    "    is_viz = await detect_visualization_request(llm, question)\n",
    "    status = \"🔍 VISUALIZATION\" if is_viz else \"📊 REGULAR\"\n",
    "    print(f\"{status}: {question}\")\n",
    "\n",
    "print(\"\\nDetection complete!\")"
   ]
  },
  {
   "cell_type": "markdown",
   "metadata": {},
   "source": [
    "## Test 2: Enhanced Generation Node\n",
    "\n",
    "Test the generation node that uses different prompts and examples for visualization requests."
   ]
  },
  {
   "cell_type": "code",
   "execution_count": null,
   "metadata": {},
   "outputs": [],
   "source": [
    "# Create enhanced generation node\n",
    "enhanced_generation = create_text2cypher_generation_node_with_viz(\n",
    "    llm=llm,\n",
    "    graph=graph,\n",
    "    cypher_example_retriever=cypher_example_retriever\n",
    ")\n",
    "\n",
    "print(\"Enhanced generation node created!\")"
   ]
  },
  {
   "cell_type": "code",
   "execution_count": null,
   "metadata": {},
   "outputs": [],
   "source": [
    "# Test both regular and visualization generation\n",
    "test_cases = [\n",
    "    (\"How many Honda Civic complaints are there?\", \"Regular Question\"),\n",
    "    (\"Visualize how Honda Pilot complaints connect to categories\", \"Visualization Question\")\n",
    "]\n",
    "\n",
    "print(\"Testing Enhanced Generation:\")\n",
    "print(\"=\" * 60)\n",
    "\n",
    "for question, question_type in test_cases:\n",
    "    print(f\"\\n{question_type}: {question}\")\n",
    "    print(\"-\" * 60)\n",
    "    \n",
    "    # Create state for generation\n",
    "    state = {\n",
    "        \"task\": question,\n",
    "        \"prev_steps\": []\n",
    "    }\n",
    "    \n",
    "    # Generate Cypher\n",
    "    result = await enhanced_generation(state)\n",
    "    \n",
    "    print(f\"Visualization Requested: {result.get('visualization_requested', False)}\")\n",
    "    print(f\"Generated Cypher:\")\n",
    "    print(result.get('statement', 'No statement generated'))\n",
    "    print(f\"Steps: {result.get('cypher_steps', [])}\")"
   ]
  },
  {
   "cell_type": "markdown",
   "metadata": {},
   "source": [
    "## Test 3: Enhanced Execution Node\n",
    "\n",
    "Test the execution node that can return both regular results and graph data."
   ]
  },
  {
   "cell_type": "code",
   "execution_count": null,
   "metadata": {},
   "outputs": [],
   "source": [
    "# Create enhanced execution node\n",
    "enhanced_execution = create_text2cypher_execution_with_graph_node(graph)\n",
    "\n",
    "print(\"Enhanced execution node created!\")"
   ]
  },
  {
   "cell_type": "code",
   "execution_count": null,
   "metadata": {},
   "outputs": [],
   "source": "# Test execution with a visualization query\nviz_question = \"Visualize Honda Pilot complaints and their categories\"\n\nprint(f\"Testing visualization execution for: {viz_question}\")\nprint(\"=\" * 60)\n\n# First generate the query\ngen_state = {\n    \"task\": viz_question,\n    \"prev_steps\": []\n}\n\ngen_result = await enhanced_generation(gen_state)\nprint(f\"Generated query: {gen_result.get('statement')}\")\nprint(f\"Visualization requested: {gen_result.get('visualization_requested')}\")\n\n# Now execute it\nexec_state = {\n    \"task\": viz_question,\n    \"statement\": gen_result.get('statement'),\n    \"cypher_steps\": gen_result.get('cypher_steps', []),\n    \"visualization_requested\": gen_result.get('visualization_requested', False),\n    \"errors\": []\n}\n\nexec_result = await enhanced_execution(exec_state)\n\n# Check results\ncyphers = exec_result.get('cyphers', [])\nif cyphers:\n    cypher_output = cyphers[0]\n    records = cypher_output.get('records', [])\n    graph_result = cypher_output.get('graph_result')\n    \n    print(f\"\\nExecution Results:\")\n    print(f\"Regular records: {len(records)} records\")\n    print(f\"Graph result available: {graph_result is not None}\")\n    \n    if graph_result:\n        if hasattr(graph_result, 'nodes') and hasattr(graph_result, 'relationships'):\n            print(f\"Graph contains: {len(graph_result.nodes)} nodes, {len(graph_result.relationships)} relationships\")\n            \n            # Show first few nodes (fix the slicing issue)\n            nodes_list = list(graph_result.nodes)\n            relationships_list = list(graph_result.relationships)\n            \n            print(\"\\nFirst 3 nodes:\")\n            for i, node in enumerate(nodes_list[:3]):\n                labels = list(node.labels) if hasattr(node, 'labels') else []\n                properties = dict(list(node.items())[:2]) if hasattr(node, 'items') else {}\n                print(f\"  Node {i+1}: {labels} - {properties}\")\n            \n            # Show first few relationships\n            print(\"\\nFirst 3 relationships:\")\n            for i, rel in enumerate(relationships_list[:3]):\n                print(f\"  Rel {i+1}: {rel.type}\")\n        else:\n            print(f\"Graph result type: {type(graph_result)}\")\n    \n    # Show some regular records too\n    print(f\"\\nFirst 3 regular records:\")\n    for i, record in enumerate(records[:3]):\n        print(f\"  Record {i+1}: {record}\")\nelse:\n    print(\"No cypher results found\")"
  },
  {
   "cell_type": "markdown",
   "metadata": {},
   "source": [
    "## Test 4: Complete Workflow Comparison\n",
    "\n",
    "Compare regular vs visualization workflows side by side."
   ]
  },
  {
   "cell_type": "code",
   "execution_count": null,
   "metadata": {},
   "outputs": [],
   "source": "# Test the same semantic question both ways\nbase_question = \"Honda Pilot complaints and their categories\"\nregular_question = f\"How many {base_question} are there?\"\nviz_question = f\"Visualize {base_question}\"\n\nprint(\"SIDE-BY-SIDE COMPARISON\")\nprint(\"=\" * 60)\nprint(f\"Base topic: {base_question}\")\nprint(f\"Regular question: {regular_question}\")\nprint(f\"Visualization question: {viz_question}\")\nprint(\"\\n\")\n\n# Process both questions\nquestions = [(regular_question, \"REGULAR\"), (viz_question, \"VISUALIZATION\")]\n\nfor question, qtype in questions:\n    print(f\"\\n{qtype} WORKFLOW: {question}\")\n    print(\"-\" * 60)\n    \n    # Generation\n    gen_state = {\"task\": question, \"prev_steps\": []}\n    gen_result = await enhanced_generation(gen_state)\n    \n    viz_requested = gen_result.get('visualization_requested', False)\n    statement = gen_result.get('statement', '')\n    \n    print(f\"1. Detection: {'🔍 VISUALIZATION' if viz_requested else '📊 REGULAR'}\")\n    print(f\"2. Generated Cypher: {statement}\")\n    \n    # Execution\n    exec_state = {\n        \"task\": question,\n        \"statement\": statement,\n        \"cypher_steps\": gen_result.get('cypher_steps', []),\n        \"visualization_requested\": viz_requested,\n        \"errors\": []\n    }\n    \n    exec_result = await enhanced_execution(exec_state)\n    cyphers = exec_result.get('cyphers', [])\n    \n    if cyphers:\n        cypher_output = cyphers[0]\n        records = cypher_output.get('records', [])\n        graph_result = cypher_output.get('graph_result')\n        \n        print(f\"3. Execution:\")\n        print(f\"   - Regular records: {len(records)}\")\n        print(f\"   - Graph result: {'Yes' if graph_result else 'No'}\")\n        \n        if graph_result and hasattr(graph_result, 'nodes'):\n            print(f\"   - Graph nodes: {len(graph_result.nodes)}\")\n            print(f\"   - Graph relationships: {len(graph_result.relationships)}\")\n        \n        # Show actual results/answers\n        print(f\"4. Results:\")\n        if qtype == \"REGULAR\":\n            # Show the actual answer for regular queries (usually a count or aggregation)\n            for i, record in enumerate(records[:3]):\n                print(f\"   Answer: {record}\")\n        else:\n            # For visualization queries, show sample nodes/relationships\n            if graph_result and hasattr(graph_result, 'nodes'):\n                nodes_list = list(graph_result.nodes)\n                relationships_list = list(graph_result.relationships)\n                \n                print(f\"   Sample nodes:\")\n                for i, node in enumerate(nodes_list[:2]):\n                    labels = list(node.labels) if hasattr(node, 'labels') else []\n                    props = dict(list(node.items())[:2]) if hasattr(node, 'items') else {}\n                    print(f\"     Node {i+1}: {labels[0] if labels else 'Unknown'} - {props}\")\n                \n                print(f\"   Sample relationships:\")\n                for i, rel in enumerate(relationships_list[:2]):\n                    print(f\"     Rel {i+1}: {rel.type}\")\n            else:\n                # Fallback to regular records if graph result not available\n                for i, record in enumerate(records[:2]):\n                    print(f\"     Record {i+1}: {record}\")\n    \n    print(f\"\\n✅ {qtype} workflow completed\")\n\nprint(\"\\n🎉 Side-by-side comparison completed!\")"
  },
  {
   "cell_type": "markdown",
   "metadata": {},
   "source": [
    "## Test 5: Conversation with Mixed Questions\n",
    "\n",
    "Test a conversation that mixes regular and visualization questions."
   ]
  },
  {
   "cell_type": "code",
   "execution_count": null,
   "metadata": {},
   "outputs": [],
   "source": "# Simulate a mixed conversation\nconversation_questions = [\n    \"How many Honda Civic complaints are there?\",  # Regular\n    \"Visualize the relationship between these complaints and their categories\",  # Visualization\n    \"What's the most common problem category?\",  # Regular\n    \"Show me the network of problems connected to that category\"  # Visualization\n]\n\nprint(\"MIXED CONVERSATION TEST\")\nprint(\"=\" * 50)\n\nfor i, question in enumerate(conversation_questions, 1):\n    print(f\"\\nStep {i}: {question}\")\n    print(\"-\" * 40)\n    \n    # Full generation and execution test\n    gen_state = {\"task\": question, \"prev_steps\": []}\n    gen_result = await enhanced_generation(gen_state)\n    \n    viz_requested = gen_result.get('visualization_requested', False)\n    statement = gen_result.get('statement', '')\n    \n    print(f\"Type: {'🔍 VISUALIZATION' if viz_requested else '📊 REGULAR'}\")\n    print(f\"Query: {statement[:100]}{'...' if len(statement) > 100 else ''}\")\n    \n    # Execute the query to show actual results\n    exec_state = {\n        \"task\": question,\n        \"statement\": statement,\n        \"cypher_steps\": gen_result.get('cypher_steps', []),\n        \"visualization_requested\": viz_requested,\n        \"errors\": []\n    }\n    \n    exec_result = await enhanced_execution(exec_state)\n    cyphers = exec_result.get('cyphers', [])\n    \n    if cyphers:\n        cypher_output = cyphers[0]\n        records = cypher_output.get('records', [])\n        graph_result = cypher_output.get('graph_result')\n        \n        if viz_requested:\n            print(f\"🎯 Executed with graph transformer\")\n            if graph_result and hasattr(graph_result, 'nodes'):\n                print(f\"   Graph: {len(graph_result.nodes)} nodes, {len(graph_result.relationships)} relationships\")\n                \n                # Show sample from graph\n                nodes_list = list(graph_result.nodes)\n                if nodes_list:\n                    sample_node = nodes_list[0]\n                    labels = list(sample_node.labels) if hasattr(sample_node, 'labels') else []\n                    print(f\"   Sample: {labels[0] if labels else 'Unknown'} node\")\n            else:\n                print(f\"   No graph data returned\")\n        else:\n            print(f\"📈 Standard execution\")\n            if records:\n                print(f\"   Result: {records[0] if len(records) == 1 else f'{len(records)} records'}\")\n            else:\n                print(f\"   No results returned\")\n    else:\n        print(f\"❌ Execution failed\")\n\nprint(\"\\n✅ Mixed conversation test completed!\")\nprint(\"\\n📝 Summary: The system successfully detects when to use visualization vs regular processing\")\nprint(\"and executes the appropriate workflow with actual results.\")"
  }
 ],
 "metadata": {
  "kernelspec": {
   "display_name": "neo4j-text2cypher-EqJR_kBF-py3.13",
   "language": "python",
   "name": "python3"
  },
  "language_info": {
   "codemirror_mode": {
    "name": "ipython",
    "version": 3
   },
   "file_extension": ".py",
   "mimetype": "text/x-python",
   "name": "python",
   "nbconvert_exporter": "python",
   "pygments_lexer": "ipython3",
   "version": "3.13.5"
  }
 },
 "nbformat": 4,
 "nbformat_minor": 4
}